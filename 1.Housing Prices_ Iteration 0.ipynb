{
 "cells": [
  {
   "cell_type": "markdown",
   "id": "9d900018-afc0-4592-abaf-1351388f0b18",
   "metadata": {},
   "source": [
    "## Create a model to predict whether a house is expensive or not. "
   ]
  },
  {
   "cell_type": "markdown",
   "id": "dd63b0b7-8829-46b6-b70a-4d538bf10252",
   "metadata": {
    "tags": []
   },
   "source": [
    "### Dataset variables:\n",
    "\n",
    "* LotFrontage: Linear feet of street connected to property\n",
    "\n",
    "* LotArea: Lot size in square feet\n",
    "\n",
    "* TotalBsmtSF: Total square feet of basement area\n",
    "\n",
    "* BedroomAbvGr: Bedrooms above grade (does NOT include basement bedrooms)\n",
    "\n",
    "* Fireplaces: Number of fireplaces\n",
    "\n",
    "* PoolArea: Pool area in square feet\n",
    "\n",
    "* GarageCars: Size of garage in car capacity\n",
    "\n",
    "* WoodDeckSF: Wood deck area in square feet\n",
    "\n",
    "* ScreenPorch: Screen porch area in square feet\n"
   ]
  },
  {
   "cell_type": "code",
   "execution_count": null,
   "id": "aa0fb32e-a827-4af0-880f-3e00e8256499",
   "metadata": {},
   "outputs": [],
   "source": []
  },
  {
   "cell_type": "markdown",
   "id": "21969e6e-7afb-460b-8679-c7295ceffa4a",
   "metadata": {},
   "source": [
    "## 1. Data reading"
   ]
  },
  {
   "cell_type": "code",
   "execution_count": 4,
   "id": "ca85d6d6-9829-4646-95de-50ab46f8ca1d",
   "metadata": {},
   "outputs": [],
   "source": [
    "import pandas as pd"
   ]
  },
  {
   "cell_type": "code",
   "execution_count": 9,
   "id": "b54ebeb0-659e-42ed-a6cc-902ce8f8917f",
   "metadata": {},
   "outputs": [
    {
     "data": {
      "text/plain": [
       "Index(['LotArea', 'LotFrontage', 'TotalBsmtSF', 'BedroomAbvGr', 'Fireplaces',\n",
       "       'PoolArea', 'GarageCars', 'WoodDeckSF', 'ScreenPorch', 'Expensive'],\n",
       "      dtype='object')"
      ]
     },
     "execution_count": 9,
     "metadata": {},
     "output_type": "execute_result"
    }
   ],
   "source": [
    "# import data\n",
    "data= pd.read_csv('data/housing-classification-iter-0-2.csv')\n",
    "data.columns"
   ]
  },
  {
   "cell_type": "markdown",
   "id": "b0dfbf46-ca66-4f09-a294-286c64e7b09c",
   "metadata": {},
   "source": [
    "The target column (what we want our model to predict) is usually denoted as `y`. We will \"pop\" it out from the rest of the data:"
   ]
  },
  {
   "cell_type": "code",
   "execution_count": 10,
   "id": "fa4b6e09-2b34-4c1a-899e-703eaf54c29c",
   "metadata": {},
   "outputs": [],
   "source": [
    "#As you can see, the target is just a bunch of zeros and ones.\n",
    "y = data.pop(\"Expensive\")"
   ]
  },
  {
   "cell_type": "code",
   "execution_count": null,
   "id": "2a1f3c3d-9e60-4613-823b-32ddf28e8851",
   "metadata": {},
   "outputs": [],
   "source": [
    "print(y.tolist())"
   ]
  },
  {
   "cell_type": "code",
   "execution_count": null,
   "id": "591481e6-3398-4680-836e-18032fbfe12b",
   "metadata": {},
   "outputs": [],
   "source": [
    "#X = data.drop(columns=[\"\", \"\"])\n",
    "#X.head()"
   ]
  },
  {
   "cell_type": "markdown",
   "id": "36681902-de67-40b3-9eeb-36621ac7608b",
   "metadata": {},
   "source": [
    "### 2. Basic Exploration\n",
    "\n",
    "Just look briefly at the data types of your columns get get an idea of how they look like."
   ]
  },
  {
   "cell_type": "code",
   "execution_count": 14,
   "id": "21c0a53a-8734-4ddc-a8d6-15a20acb5d26",
   "metadata": {},
   "outputs": [],
   "source": [
    "X=data"
   ]
  },
  {
   "cell_type": "code",
   "execution_count": 15,
   "id": "90307a71-c621-4e7b-8f21-2375fd4f69d3",
   "metadata": {},
   "outputs": [
    {
     "name": "stdout",
     "output_type": "stream",
     "text": [
      "<class 'pandas.core.frame.DataFrame'>\n",
      "RangeIndex: 1460 entries, 0 to 1459\n",
      "Data columns (total 9 columns):\n",
      " #   Column        Non-Null Count  Dtype  \n",
      "---  ------        --------------  -----  \n",
      " 0   LotArea       1460 non-null   int64  \n",
      " 1   LotFrontage   1201 non-null   float64\n",
      " 2   TotalBsmtSF   1460 non-null   int64  \n",
      " 3   BedroomAbvGr  1460 non-null   int64  \n",
      " 4   Fireplaces    1460 non-null   int64  \n",
      " 5   PoolArea      1460 non-null   int64  \n",
      " 6   GarageCars    1460 non-null   int64  \n",
      " 7   WoodDeckSF    1460 non-null   int64  \n",
      " 8   ScreenPorch   1460 non-null   int64  \n",
      "dtypes: float64(1), int64(8)\n",
      "memory usage: 102.8 KB\n"
     ]
    }
   ],
   "source": [
    "X.info()"
   ]
  },
  {
   "cell_type": "code",
   "execution_count": 16,
   "id": "79acc9de-44bb-4a69-912b-597e8693d7a1",
   "metadata": {},
   "outputs": [
    {
     "data": {
      "text/plain": [
       "LotArea           0\n",
       "LotFrontage     259\n",
       "TotalBsmtSF       0\n",
       "BedroomAbvGr      0\n",
       "Fireplaces        0\n",
       "PoolArea          0\n",
       "GarageCars        0\n",
       "WoodDeckSF        0\n",
       "ScreenPorch       0\n",
       "dtype: int64"
      ]
     },
     "execution_count": 16,
     "metadata": {},
     "output_type": "execute_result"
    }
   ],
   "source": [
    "X.isna().sum()"
   ]
  },
  {
   "cell_type": "code",
   "execution_count": 17,
   "id": "27271c43-f853-46b2-a7e1-28501e4fea83",
   "metadata": {},
   "outputs": [
    {
     "data": {
      "image/png": "[encoded data removed]",
      "text/plain": [
       "<Figure size 720x576 with 9 Axes>"
      ]
     },
     "metadata": {
      "needs_background": "light"
     },
     "output_type": "display_data"
    }
   ],
   "source": [
    "X.hist(figsize=(10, 8));"
   ]
  },
  {
   "cell_type": "markdown",
   "id": "fe6ab6d6-dfcf-49f0-b053-afa388025392",
   "metadata": {},
   "source": [
    "## 3. Train-test split\n",
    "\n",
    "Before performing a deeper exploration, we will split the dataset into 2 chunks: train and test. We will use the train set to find patterns in the data and create a model. The test set will remain untouched, unseen, unexplored. It will be the \"reality check\" for our model, it will let us know whether our model is able to generalize. \n",
    "\n",
    "Here, we're using the function `train_test_split` to shuffle the observations randomly and create the train and test sets for both the `X` and the `y` objects at the same time, ensuring that they are shuffled the same way:"
   ]
  },
  {
   "cell_type": "code",
   "execution_count": 18,
   "id": "a9cb13c5-0b18-4d52-ae7d-43a309f6551c",
   "metadata": {},
   "outputs": [],
   "source": [
    "from sklearn.model_selection import train_test_split\n",
    "\n",
    "X_train, X_test, y_train, y_test = train_test_split(X, y, test_size=0.2, random_state=31416)"
   ]
  },
  {
   "cell_type": "code",
   "execution_count": 19,
   "id": "1ba60f7b-bea4-4a4c-8b8f-0a768458ab77",
   "metadata": {},
   "outputs": [
    {
     "data": {
      "text/html": [
       "<div>\n",
       "<style scoped>\n",
       "    .dataframe tbody tr th:only-of-type {\n",
       "        vertical-align: middle;\n",
       "    }\n",
       "\n",
       "    .dataframe tbody tr th {\n",
       "        vertical-align: top;\n",
       "    }\n",
       "\n",
       "    .dataframe thead th {\n",
       "        text-align: right;\n",
       "    }\n",
       "</style>\n",
       "<table border=\"1\" class=\"dataframe\">\n",
       "  <thead>\n",
       "    <tr style=\"text-align: right;\">\n",
       "      <th></th>\n",
       "      <th>LotArea</th>\n",
       "      <th>LotFrontage</th>\n",
       "      <th>TotalBsmtSF</th>\n",
       "      <th>BedroomAbvGr</th>\n",
       "      <th>Fireplaces</th>\n",
       "      <th>PoolArea</th>\n",
       "      <th>GarageCars</th>\n",
       "      <th>WoodDeckSF</th>\n",
       "      <th>ScreenPorch</th>\n",
       "    </tr>\n",
       "  </thead>\n",
       "  <tbody>\n",
       "    <tr>\n",
       "      <th>772</th>\n",
       "      <td>7819</td>\n",
       "      <td>94.0</td>\n",
       "      <td>1029</td>\n",
       "      <td>3</td>\n",
       "      <td>1</td>\n",
       "      <td>0</td>\n",
       "      <td>2</td>\n",
       "      <td>144</td>\n",
       "      <td>0</td>\n",
       "    </tr>\n",
       "    <tr>\n",
       "      <th>157</th>\n",
       "      <td>12003</td>\n",
       "      <td>92.0</td>\n",
       "      <td>774</td>\n",
       "      <td>4</td>\n",
       "      <td>1</td>\n",
       "      <td>0</td>\n",
       "      <td>3</td>\n",
       "      <td>0</td>\n",
       "      <td>0</td>\n",
       "    </tr>\n",
       "    <tr>\n",
       "      <th>360</th>\n",
       "      <td>7540</td>\n",
       "      <td>NaN</td>\n",
       "      <td>888</td>\n",
       "      <td>2</td>\n",
       "      <td>1</td>\n",
       "      <td>0</td>\n",
       "      <td>2</td>\n",
       "      <td>0</td>\n",
       "      <td>192</td>\n",
       "    </tr>\n",
       "    <tr>\n",
       "      <th>744</th>\n",
       "      <td>5395</td>\n",
       "      <td>41.0</td>\n",
       "      <td>1337</td>\n",
       "      <td>2</td>\n",
       "      <td>1</td>\n",
       "      <td>0</td>\n",
       "      <td>2</td>\n",
       "      <td>96</td>\n",
       "      <td>0</td>\n",
       "    </tr>\n",
       "    <tr>\n",
       "      <th>150</th>\n",
       "      <td>10356</td>\n",
       "      <td>120.0</td>\n",
       "      <td>969</td>\n",
       "      <td>3</td>\n",
       "      <td>0</td>\n",
       "      <td>0</td>\n",
       "      <td>2</td>\n",
       "      <td>0</td>\n",
       "      <td>0</td>\n",
       "    </tr>\n",
       "  </tbody>\n",
       "</table>\n",
       "</div>"
      ],
      "text/plain": [
       "     LotArea  LotFrontage  TotalBsmtSF  BedroomAbvGr  Fireplaces  PoolArea  \\\n",
       "772     7819         94.0         1029             3           1         0   \n",
       "157    12003         92.0          774             4           1         0   \n",
       "360     7540          NaN          888             2           1         0   \n",
       "744     5395         41.0         1337             2           1         0   \n",
       "150    10356        120.0          969             3           0         0   \n",
       "\n",
       "     GarageCars  WoodDeckSF  ScreenPorch  \n",
       "772           2         144            0  \n",
       "157           3           0            0  \n",
       "360           2           0          192  \n",
       "744           2          96            0  \n",
       "150           2           0            0  "
      ]
     },
     "execution_count": 19,
     "metadata": {},
     "output_type": "execute_result"
    }
   ],
   "source": [
    "X_train.head()"
   ]
  },
  {
   "cell_type": "code",
   "execution_count": 20,
   "id": "102c7770-d367-4976-866f-15542fcace3b",
   "metadata": {},
   "outputs": [
    {
     "data": {
      "text/plain": [
       "772    0\n",
       "157    1\n",
       "360    0\n",
       "744    0\n",
       "150    0\n",
       "Name: Expensive, dtype: int64"
      ]
     },
     "execution_count": 20,
     "metadata": {},
     "output_type": "execute_result"
    }
   ],
   "source": [
    "y_train.head()"
   ]
  },
  {
   "cell_type": "code",
   "execution_count": 21,
   "id": "1a1cafcd-e717-4699-a032-9b9f61a694af",
   "metadata": {},
   "outputs": [
    {
     "data": {
      "text/html": [
       "<div>\n",
       "<style scoped>\n",
       "    .dataframe tbody tr th:only-of-type {\n",
       "        vertical-align: middle;\n",
       "    }\n",
       "\n",
       "    .dataframe tbody tr th {\n",
       "        vertical-align: top;\n",
       "    }\n",
       "\n",
       "    .dataframe thead th {\n",
       "        text-align: right;\n",
       "    }\n",
       "</style>\n",
       "<table border=\"1\" class=\"dataframe\">\n",
       "  <thead>\n",
       "    <tr style=\"text-align: right;\">\n",
       "      <th></th>\n",
       "      <th>LotArea</th>\n",
       "      <th>LotFrontage</th>\n",
       "      <th>TotalBsmtSF</th>\n",
       "      <th>BedroomAbvGr</th>\n",
       "      <th>Fireplaces</th>\n",
       "      <th>PoolArea</th>\n",
       "      <th>GarageCars</th>\n",
       "      <th>WoodDeckSF</th>\n",
       "      <th>ScreenPorch</th>\n",
       "    </tr>\n",
       "  </thead>\n",
       "  <tbody>\n",
       "    <tr>\n",
       "      <th>1253</th>\n",
       "      <td>17542</td>\n",
       "      <td>NaN</td>\n",
       "      <td>1192</td>\n",
       "      <td>3</td>\n",
       "      <td>2</td>\n",
       "      <td>0</td>\n",
       "      <td>2</td>\n",
       "      <td>220</td>\n",
       "      <td>0</td>\n",
       "    </tr>\n",
       "    <tr>\n",
       "      <th>202</th>\n",
       "      <td>7000</td>\n",
       "      <td>50.0</td>\n",
       "      <td>617</td>\n",
       "      <td>2</td>\n",
       "      <td>0</td>\n",
       "      <td>0</td>\n",
       "      <td>1</td>\n",
       "      <td>0</td>\n",
       "      <td>0</td>\n",
       "    </tr>\n",
       "    <tr>\n",
       "      <th>213</th>\n",
       "      <td>13568</td>\n",
       "      <td>43.0</td>\n",
       "      <td>990</td>\n",
       "      <td>3</td>\n",
       "      <td>0</td>\n",
       "      <td>0</td>\n",
       "      <td>2</td>\n",
       "      <td>224</td>\n",
       "      <td>0</td>\n",
       "    </tr>\n",
       "    <tr>\n",
       "      <th>1331</th>\n",
       "      <td>10780</td>\n",
       "      <td>55.0</td>\n",
       "      <td>911</td>\n",
       "      <td>3</td>\n",
       "      <td>0</td>\n",
       "      <td>0</td>\n",
       "      <td>2</td>\n",
       "      <td>0</td>\n",
       "      <td>0</td>\n",
       "    </tr>\n",
       "    <tr>\n",
       "      <th>120</th>\n",
       "      <td>21453</td>\n",
       "      <td>NaN</td>\n",
       "      <td>938</td>\n",
       "      <td>1</td>\n",
       "      <td>2</td>\n",
       "      <td>0</td>\n",
       "      <td>2</td>\n",
       "      <td>0</td>\n",
       "      <td>0</td>\n",
       "    </tr>\n",
       "  </tbody>\n",
       "</table>\n",
       "</div>"
      ],
      "text/plain": [
       "      LotArea  LotFrontage  TotalBsmtSF  BedroomAbvGr  Fireplaces  PoolArea  \\\n",
       "1253    17542          NaN         1192             3           2         0   \n",
       "202      7000         50.0          617             2           0         0   \n",
       "213     13568         43.0          990             3           0         0   \n",
       "1331    10780         55.0          911             3           0         0   \n",
       "120     21453          NaN          938             1           2         0   \n",
       "\n",
       "      GarageCars  WoodDeckSF  ScreenPorch  \n",
       "1253           2         220            0  \n",
       "202            1           0            0  \n",
       "213            2         224            0  \n",
       "1331           2           0            0  \n",
       "120            2           0            0  "
      ]
     },
     "execution_count": 21,
     "metadata": {},
     "output_type": "execute_result"
    }
   ],
   "source": [
    "X_test.head()"
   ]
  },
  {
   "cell_type": "code",
   "execution_count": 22,
   "id": "4def6917-4d0f-40b5-af89-d48252986629",
   "metadata": {},
   "outputs": [
    {
     "data": {
      "text/plain": [
       "1253    1\n",
       "202     0\n",
       "213     0\n",
       "1331    0\n",
       "120     0\n",
       "       ..\n",
       "978     0\n",
       "1057    0\n",
       "782     0\n",
       "125     0\n",
       "1409    0\n",
       "Name: Expensive, Length: 292, dtype: int64"
      ]
     },
     "execution_count": 22,
     "metadata": {},
     "output_type": "execute_result"
    }
   ],
   "source": [
    "y_test"
   ]
  },
  {
   "cell_type": "markdown",
   "id": "263ddb93-f294-453c-80b5-9ca1fb758fd9",
   "metadata": {},
   "source": [
    "## 4. Iteration 0 - An intuition-based model\n",
    "\n",
    "Machine Learning models should never be the first option to solve any problem. Machine Learning adds complexity to a business, and it should only be implemented if it represents a clear advantage compared to a simple working solution that the company has build following simple rules, common sense or gained expertise. \n",
    "\n",
    "Therefore, the first step when solving any problem should be to create a simple (even dumb) working solution and learn to evaluate it. In our example: how well can we predict expensive house with an extremely simple rule?\n",
    "\n",
    "Let's start by suggesting that evry house is expensive. We will call this \"model\" the \"pessimistic\" one, and use it to make predictions for both the train and the test set:"
   ]
  },
  {
   "cell_type": "code",
   "execution_count": 23,
   "id": "0b5a3011-4d90-4fcc-bae5-0aaeca6224fd",
   "metadata": {},
   "outputs": [
    {
     "data": {
      "text/plain": [
       "0    989\n",
       "1    179\n",
       "Name: Expensive, dtype: int64"
      ]
     },
     "execution_count": 23,
     "metadata": {},
     "output_type": "execute_result"
    }
   ],
   "source": [
    "y_train.value_counts()"
   ]
  },
  {
   "cell_type": "code",
   "execution_count": 24,
   "id": "be1bbc34-2472-4657-a771-a414177c0c0d",
   "metadata": {},
   "outputs": [
    {
     "data": {
      "text/plain": [
       "1168"
      ]
     },
     "execution_count": 24,
     "metadata": {},
     "output_type": "execute_result"
    }
   ],
   "source": [
    "len(y_train)"
   ]
  },
  {
   "cell_type": "markdown",
   "id": "6581878b-673e-4cb3-844d-4b36d49ecf36",
   "metadata": {},
   "source": [
    "Our predictions for the train set will be just 1168 zeros:"
   ]
  },
  {
   "cell_type": "code",
   "execution_count": 27,
   "id": "b15f7616-1a65-4421-9485-0bffab21aabf",
   "metadata": {},
   "outputs": [],
   "source": [
    "pred_pessimistic_train=pd.Series(0, index=range(1168))"
   ]
  },
  {
   "cell_type": "markdown",
   "id": "7c2a335e-591a-4556-956b-b6341c5289cf",
   "metadata": {},
   "source": [
    "Now: how good are those predictions? We will compare them with the true values and find out the percentage of correctly predicted passengers. This metric is called **accuracy**:"
   ]
  },
  {
   "cell_type": "code",
   "execution_count": 28,
   "id": "6972c75b-f7f7-4f1e-8d1c-9585970a67f2",
   "metadata": {},
   "outputs": [
    {
     "data": {
      "text/plain": [
       "0.85"
      ]
     },
     "execution_count": 28,
     "metadata": {},
     "output_type": "execute_result"
    }
   ],
   "source": [
    "from sklearn.metrics import accuracy_score\n",
    "\n",
    "train_accuracy = accuracy_score(y_true = y_train,\n",
    "                                 y_pred = pred_pessimistic_train\n",
    "                                 )\n",
    "\n",
    "round(train_accuracy, 2)"
   ]
  },
  {
   "cell_type": "markdown",
   "id": "b30a2bcc-fc64-40b0-a7bb-eb3dcac5173c",
   "metadata": {},
   "source": [
    "Okay, we have about a 85% accuracy in our train set. Let's find out how would have it done in our test set:"
   ]
  },
  {
   "cell_type": "code",
   "execution_count": 30,
   "id": "bddde068-64c9-4ec9-a35f-e27cc81a5812",
   "metadata": {},
   "outputs": [
    {
     "data": {
      "text/plain": [
       "292"
      ]
     },
     "execution_count": 30,
     "metadata": {},
     "output_type": "execute_result"
    }
   ],
   "source": [
    "len(y_test)"
   ]
  },
  {
   "cell_type": "code",
   "execution_count": 31,
   "id": "9b438f67-d17a-41c5-b52b-39cebac49fb9",
   "metadata": {},
   "outputs": [],
   "source": [
    "pred_pessimistic_test = pd.Series(0, index=range(292))"
   ]
  },
  {
   "cell_type": "code",
   "execution_count": 32,
   "id": "d2d67910-d3ee-4be4-95cb-baf3e6167118",
   "metadata": {},
   "outputs": [
    {
     "data": {
      "text/plain": [
       "0.87"
      ]
     },
     "execution_count": 32,
     "metadata": {},
     "output_type": "execute_result"
    }
   ],
   "source": [
    "test_accuracy = accuracy_score(y_true = y_test,\n",
    "                               y_pred = pred_pessimistic_test\n",
    "                               )\n",
    "\n",
    "round(test_accuracy, 2)"
   ]
  },
  {
   "cell_type": "code",
   "execution_count": null,
   "id": "37c929b2-14de-4419-a1a5-1cedeff59955",
   "metadata": {},
   "outputs": [],
   "source": []
  }
 ],
 "metadata": {
  "kernelspec": {
   "display_name": "Python 3 (ipykernel)",
   "language": "python",
   "name": "python3"
  },
  "language_info": {
   "codemirror_mode": {
    "name": "ipython",
    "version": 3
   },
   "file_extension": ".py",
   "mimetype": "text/x-python",
   "name": "python",
   "nbconvert_exporter": "python",
   "pygments_lexer": "ipython3",
   "version": "3.9.12"
  }
 },
 "nbformat": 4,
 "nbformat_minor": 5
}
