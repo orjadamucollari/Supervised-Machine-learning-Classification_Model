{
 "cells": [
  {
   "cell_type": "markdown",
   "id": "baab829a-6074-4e19-8df1-fe938e2bc253",
   "metadata": {},
   "source": [
    "# Creating a sklearn pipeline and applying Cross Validation\n",
    "\n",
    "The goal of this notebook is to implement a sklearn pipeline and grid cross validation.\n",
    "\n",
    "The following articles on the platform will help you to accomplish this notebook: \n",
    "* [Scikit-Learn Pipelines](https://platform.wbscodingschool.com/courses/data-science/14411/)\n",
    "* [Grid Search & Cross Validation](https://platform.wbscodingschool.com/courses/data-science/14418/)"
   ]
  },
  {
   "cell_type": "markdown",
   "id": "25141780-a627-4f50-944b-68ed3ee5f033",
   "metadata": {},
   "source": [
    "## 1. Data reading and preprocessing\n",
    "\n",
    "We will first review everything we did in the previous notebook."
   ]
  },
  {
   "cell_type": "code",
   "execution_count": 7,
   "id": "19644423-888d-4cc9-bd5d-77735e78dbe1",
   "metadata": {},
   "outputs": [
    {
     "data": {
      "text/plain": [
       "Index(['LotArea', 'LotFrontage', 'TotalBsmtSF', 'BedroomAbvGr', 'Fireplaces',\n",
       "       'PoolArea', 'GarageCars', 'WoodDeckSF', 'ScreenPorch', 'Expensive'],\n",
       "      dtype='object')"
      ]
     },
     "execution_count": 7,
     "metadata": {},
     "output_type": "execute_result"
    }
   ],
   "source": [
    "# import data\n",
    "import pandas as pd\n",
    "data= pd.read_csv('data/housing-classification-iter-0-2.csv')\n",
    "data.columns"
   ]
  },
  {
   "cell_type": "markdown",
   "id": "70492914-87a4-4f05-a85e-62f9d9f4d159",
   "metadata": {},
   "source": [
    "### 1.1. Setting X and y\n",
    "\n",
    "- **X**: columns that help us make a prediction.\n",
    "- **y**: the column that we want to predict."
   ]
  },
  {
   "cell_type": "code",
   "execution_count": 8,
   "id": "47b52657-614b-448a-ab3d-00b84a1ec16c",
   "metadata": {},
   "outputs": [],
   "source": [
    "X=data\n",
    "#when we have non numerical columns \n",
    "#X_num = X.select_dtypes(include=\"number\")\n",
    "y=X.pop('Expensive')\n"
   ]
  },
  {
   "cell_type": "markdown",
   "id": "7c79a6ac-aa89-422a-82cf-d7caa9eacf83",
   "metadata": {},
   "source": [
    "### 1.3. Data splitting\n",
    "## Create train and test"
   ]
  },
  {
   "cell_type": "code",
   "execution_count": 10,
   "id": "afef7fb8-8738-4483-a7fe-7b5390dfcc19",
   "metadata": {},
   "outputs": [],
   "source": [
    "from sklearn.model_selection import train_test_split\n",
    "\n",
    "X_train, X_test, y_train, y_test = train_test_split(X, \n",
    "                                                            y, \n",
    "                                                            test_size=0.2, \n",
    "                                                            random_state=123)"
   ]
  },
  {
   "cell_type": "markdown",
   "id": "23e022f3-057a-4677-afed-99a0d3d6583c",
   "metadata": {},
   "source": [
    "### 1.4. Imputing missing values\n",
    "\n",
    "(Fit on train, transform train & test)"
   ]
  },
  {
   "cell_type": "code",
   "execution_count": 21,
   "id": "66560476-e248-468a-ae9e-f33b7534a6a5",
   "metadata": {},
   "outputs": [],
   "source": [
    "from sklearn.impute import SimpleImputer\n",
    "\n",
    "my_imputer = SimpleImputer() # initialize\n",
    "my_imputer.fit(X_train) # fit on the train set\n",
    "X_imputed_train = my_imputer.transform(X_train) # transform the train set\n",
    "X_imputed_test = my_imputer.transform(X_test) # transform the test set"
   ]
  },
  {
   "cell_type": "markdown",
   "id": "a87a2bcf-9e7d-4a7e-be1e-165a68b7ddf7",
   "metadata": {},
   "source": [
    "### 1.5. Modelling: Decision Tree\n",
    "\n",
    "https://scikit-learn.org/stable/modules/generated/sklearn.tree.DecisionTreeClassifier.html"
   ]
  },
  {
   "cell_type": "code",
   "execution_count": 14,
   "id": "e84a2d1b-75f6-4a1e-a01b-ee6b88ab53ee",
   "metadata": {},
   "outputs": [
    {
     "data": {
      "text/plain": [
       "DecisionTreeClassifier(max_depth=4, min_samples_leaf=10)"
      ]
     },
     "execution_count": 14,
     "metadata": {},
     "output_type": "execute_result"
    }
   ],
   "source": [
    "# 1. import the model\n",
    "from sklearn.tree import DecisionTreeClassifier \n",
    "# 2. initialize the model\n",
    "my_tree = DecisionTreeClassifier(max_depth=4,\n",
    "                                 min_samples_leaf=10\n",
    "                                )\n",
    "# 3. fit the model to the train data\n",
    "my_tree.fit(X = X_imputed_train, \n",
    "            y = y_train)"
   ]
  },
  {
   "cell_type": "markdown",
   "id": "369589b7-a07f-4e41-b3e8-bb192b13a2a9",
   "metadata": {},
   "source": [
    "### 1.6. Check accuracy on the train set"
   ]
  },
  {
   "cell_type": "code",
   "execution_count": 19,
   "id": "fbe1a791-c3bd-4a18-a61a-a4cf1776ab6a",
   "metadata": {},
   "outputs": [
    {
     "data": {
      "text/plain": [
       "0.9238013698630136"
      ]
     },
     "execution_count": 19,
     "metadata": {},
     "output_type": "execute_result"
    }
   ],
   "source": [
    "from sklearn.metrics import accuracy_score\n",
    "\n",
    "y_pred_tree_train = my_tree.predict(X_imputed_train)\n",
    "\n",
    "accuracy_score(y_true = y_train,\n",
    "               y_pred = y_pred_tree_train)"
   ]
  },
  {
   "cell_type": "markdown",
   "id": "0cf2b8d4-12fe-4783-9630-01adad4462ee",
   "metadata": {},
   "source": [
    "### 1.7. Check accuracy on the test set"
   ]
  },
  {
   "cell_type": "code",
   "execution_count": 20,
   "id": "82f14126-a452-4f38-8fbc-5e7c5b0f399c",
   "metadata": {},
   "outputs": [
    {
     "data": {
      "text/plain": [
       "0.9212328767123288"
      ]
     },
     "execution_count": 20,
     "metadata": {},
     "output_type": "execute_result"
    }
   ],
   "source": [
    "y_pred_tree_test = my_tree.predict(X_imputed_test)\n",
    "\n",
    "accuracy_score(y_true = y_test,\n",
    "               y_pred = y_pred_tree_test)"
   ]
  },
  {
   "cell_type": "markdown",
   "id": "90f43fc1-dc84-4023-ae69-d502a009cff0",
   "metadata": {},
   "source": [
    "## 2. Creating a Pipeline\n",
    "\n",
    "Before moving forward in our quest to improve the model, take a moment to learn how to use Scikit-Learn Pipelines. They will not increase your performance, but they are a necessary tool to compress all the steps in the data preparation + modelling phases into a single one, and this will become very relevant as we move forward and keep adding new steps:\n",
    "\n",
    "* Read the lesson \"Scikit-Learn Pipelines\" on the platform.\n",
    "\n",
    "* Check the docs: https://scikit-learn.org/stable/modules/generated/sklearn.pipeline.make_pipeline.html"
   ]
  },
  {
   "cell_type": "code",
   "execution_count": 22,
   "id": "863e3d43-3946-4bfa-80ea-83c579f5aeae",
   "metadata": {},
   "outputs": [
    {
     "data": {
      "text/plain": [
       "array([0, 0, 0, 0, 0, 1, 1, 0, 0, 0, 0, 0, 0, 0, 0, 1, 0, 1, 0, 0, 0, 0,\n",
       "       0, 0, 0, 0, 0, 0, 0, 0, 0, 0, 0, 0, 1, 0, 0, 1, 0, 0, 0, 1, 0, 0,\n",
       "       0, 0, 1, 0, 1, 0, 0, 0, 0, 0, 0, 0, 0, 0, 1, 1, 0, 0, 0, 0, 0, 0,\n",
       "       0, 1, 0, 0, 0, 0, 0, 1, 0, 0, 0, 0, 0, 0, 1, 1, 0, 0, 1, 0, 0, 0,\n",
       "       0, 1, 0, 0, 0, 0, 0, 0, 0, 0, 1, 0, 0, 1, 0, 0, 0, 0, 0, 0, 0, 1,\n",
       "       1, 0, 0, 1, 0, 0, 0, 1, 0, 0, 0, 0, 0, 0, 1, 1, 0, 0, 0, 1, 0, 1,\n",
       "       0, 0, 0, 0, 1, 0, 0, 0, 0, 0, 0, 0, 0, 0, 1, 0, 0, 0, 0, 0, 1, 0,\n",
       "       1, 0, 0, 0, 0, 0, 1, 0, 0, 0, 0, 0, 0, 0, 0, 0, 0, 0, 0, 1, 0, 1,\n",
       "       0, 0, 0, 0, 0, 0, 0, 0, 0, 0, 0, 0, 0, 0, 0, 0, 0, 0, 0, 1, 0, 0,\n",
       "       0, 0, 0, 1, 0, 1, 0, 0, 0, 0, 0, 0, 0, 1, 0, 0, 0, 0, 0, 0, 0, 0,\n",
       "       0, 0, 0, 0, 0, 0, 0, 0, 0, 0, 0, 0, 0, 0, 0, 0, 0, 0, 0, 0, 0, 0,\n",
       "       0, 0, 0, 0, 0, 1, 0, 1, 0, 0, 0, 0, 0, 0, 1, 1, 0, 0, 0, 0, 0, 0,\n",
       "       0, 0, 0, 0, 0, 0, 0, 0, 0, 0, 1, 0, 0, 0, 0, 0, 0, 0, 0, 0, 0, 0,\n",
       "       0, 0, 0, 0, 0, 0], dtype=int64)"
      ]
     },
     "execution_count": 22,
     "metadata": {},
     "output_type": "execute_result"
    }
   ],
   "source": [
    "from sklearn.impute import SimpleImputer\n",
    "from sklearn.tree import DecisionTreeClassifier\n",
    "from sklearn.pipeline import make_pipeline\n",
    "\n",
    "# 1. initialize transformers &amp; model\n",
    "imputer = SimpleImputer(strategy=\"median\")\n",
    "dtree = DecisionTreeClassifier(max_depth=4,\n",
    "                               min_samples_leaf=10)\n",
    " \n",
    "# 2. Create a pipeline*\n",
    "pipe = make_pipeline(imputer, dtree)\n",
    " \n",
    "# 3. Fit the pipeline to the training data\n",
    "pipe.fit(X_train, y_train)\n",
    " \n",
    "# 4. Use the pipeline to make predictions\n",
    "pipe.predict(X_test)"
   ]
  },
  {
   "cell_type": "markdown",
   "id": "90fed7f8-69ab-4148-8df3-e5eb502f64aa",
   "metadata": {},
   "source": [
    "Now, the object `pipie` can take (almost) raw data as input and output predictions. We no longer need to impute missing values and use the model to make predictions in separate steps."
   ]
  },
  {
   "cell_type": "markdown",
   "id": "8e52305c-b901-4164-9294-56cc3712c3ef",
   "metadata": {},
   "source": [
    "## 3. Using GridsearchCV to find the best parameters\n",
    "\n",
    "So far, we tuned the hyperparameters of the decision tree manually. This is not ideal, for two reasons:\n",
    "\n",
    "- It's not efficient in terms of quickly finding the best combination of parameters.\n",
    "- If we keep checking the performance on the test set over and over again, we might end up creating a model that fits that particular test set, but does not generalize as well with new data. Test sets are meant to reamain unseen until the very last moment of ML development —we have been cheating a bit!\n",
    "\n",
    "Grid Search Cross Validation solves both issues:\n",
    "\n",
    "* Read the lesson \"Housing Prices: Iteration 2, Grid Search & Cross Validation\" on the platform.\n",
    "\n",
    "* Check the docs: https://scikit-learn.org/stable/modules/generated/sklearn.model_selection.GridSearchCV.html"
   ]
  },
  {
   "cell_type": "code",
   "execution_count": 28,
   "id": "57d0e0fc-cda4-4dff-a7cf-f1b556053ca7",
   "metadata": {},
   "outputs": [],
   "source": [
    "# 1. initialize transformers &amp; model\n",
    "imputer = SimpleImputer()\n",
    "dtree = DecisionTreeClassifier()\n",
    " \n",
    "# 2. Create a pipeline*\n",
    "pipe = make_pipeline(imputer, dtree)\n",
    "\n",
    "param_grid = {\n",
    "    'decisiontreeclassifier__max_depth': range(2, 12),\n",
    "    'decisiontreeclassifier__min_samples_leaf': range(5, 20, 2),\n",
    "    'decisiontreeclassifier__min_samples_split': range(5, 40, 10),\n",
    "    'decisiontreeclassifier__criterion':['gini', 'entropy']\n",
    "    }\n",
    "    \n",
    "from sklearn.model_selection import GridSearchCV\n",
    " \n",
    "search = GridSearchCV(pipe, # you have defined this beforehand\n",
    "                      param_grid, # your parameter grid\n",
    "                      cv=5, # the value for K in K-fold Cross Validation\n",
    "                      scoring='accuracy', # the performance metric to use, \n",
    "                      verbose=1) # we want informative outputs during the training process"
   ]
  },
  {
   "cell_type": "code",
   "execution_count": 25,
   "id": "e252cc6f-368a-46fe-aa50-cd7a212d4c4a",
   "metadata": {},
   "outputs": [
    {
     "name": "stdout",
     "output_type": "stream",
     "text": [
      "Fitting 5 folds for each of 640 candidates, totalling 3200 fits\n"
     ]
    },
    {
     "data": {
      "text/plain": [
       "GridSearchCV(cv=5,\n",
       "             estimator=Pipeline(steps=[('simpleimputer', SimpleImputer()),\n",
       "                                       ('decisiontreeclassifier',\n",
       "                                        DecisionTreeClassifier())]),\n",
       "             param_grid={'decisiontreeclassifier__criterion': ['gini',\n",
       "                                                               'entropy'],\n",
       "                         'decisiontreeclassifier__max_depth': range(2, 12),\n",
       "                         'decisiontreeclassifier__min_samples_leaf': range(3, 10, 2),\n",
       "                         'decisiontreeclassifier__min_samples_split': range(3, 40, 5)},\n",
       "             scoring='accuracy', verbose=1)"
      ]
     },
     "execution_count": 25,
     "metadata": {},
     "output_type": "execute_result"
    }
   ],
   "source": [
    "search.fit(X_imputed_train, y_train)"
   ]
  },
  {
   "cell_type": "code",
   "execution_count": 26,
   "id": "543480c5-b6f6-4d0f-a014-436b63bbdba1",
   "metadata": {},
   "outputs": [
    {
     "data": {
      "text/plain": [
       "{'decisiontreeclassifier__criterion': 'entropy',\n",
       " 'decisiontreeclassifier__max_depth': 6,\n",
       " 'decisiontreeclassifier__min_samples_leaf': 3,\n",
       " 'decisiontreeclassifier__min_samples_split': 33}"
      ]
     },
     "execution_count": 26,
     "metadata": {},
     "output_type": "execute_result"
    }
   ],
   "source": [
    "search.best_params_"
   ]
  },
  {
   "cell_type": "code",
   "execution_count": 27,
   "id": "0109145d-f311-45c9-8e60-6fde7b418d0d",
   "metadata": {},
   "outputs": [
    {
     "data": {
      "text/plain": [
       "0.9255236418326547"
      ]
     },
     "execution_count": 27,
     "metadata": {},
     "output_type": "execute_result"
    }
   ],
   "source": [
    "search.best_score_"
   ]
  },
  {
   "cell_type": "code",
   "execution_count": null,
   "id": "6f20ae3b-f4ac-4816-b574-1852e7478f9a",
   "metadata": {},
   "outputs": [],
   "source": []
  }
 ],
 "metadata": {
  "kernelspec": {
   "display_name": "Python 3 (ipykernel)",
   "language": "python",
   "name": "python3"
  },
  "language_info": {
   "codemirror_mode": {
    "name": "ipython",
    "version": 3
   },
   "file_extension": ".py",
   "mimetype": "text/x-python",
   "name": "python",
   "nbconvert_exporter": "python",
   "pygments_lexer": "ipython3",
   "version": "3.9.12"
  }
 },
 "nbformat": 4,
 "nbformat_minor": 5
}
